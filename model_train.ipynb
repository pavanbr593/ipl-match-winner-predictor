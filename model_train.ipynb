{
 "cells": [
  {
   "cell_type": "code",
   "execution_count": 9,
   "id": "f05344f6",
   "metadata": {},
   "outputs": [],
   "source": [
    "# Step 1: Import libraries\n",
    "import pandas as pd\n",
    "from sklearn.preprocessing import LabelEncoder\n",
    "from sklearn.model_selection import train_test_split\n",
    "from sklearn.metrics import accuracy_score, classification_report, confusion_matrix\n",
    "import numpy as np\n"
   ]
  },
  {
   "cell_type": "code",
   "execution_count": 10,
   "id": "519b672e",
   "metadata": {},
   "outputs": [
    {
     "data": {
      "text/html": [
       "<div>\n",
       "<style scoped>\n",
       "    .dataframe tbody tr th:only-of-type {\n",
       "        vertical-align: middle;\n",
       "    }\n",
       "\n",
       "    .dataframe tbody tr th {\n",
       "        vertical-align: top;\n",
       "    }\n",
       "\n",
       "    .dataframe thead th {\n",
       "        text-align: right;\n",
       "    }\n",
       "</style>\n",
       "<table border=\"1\" class=\"dataframe\">\n",
       "  <thead>\n",
       "    <tr style=\"text-align: right;\">\n",
       "      <th></th>\n",
       "      <th>season</th>\n",
       "      <th>city</th>\n",
       "      <th>match_type</th>\n",
       "      <th>venue</th>\n",
       "      <th>team1</th>\n",
       "      <th>team2</th>\n",
       "      <th>toss_winner</th>\n",
       "      <th>toss_decision</th>\n",
       "      <th>winner</th>\n",
       "      <th>target_runs</th>\n",
       "      <th>target_overs</th>\n",
       "      <th>super_over</th>\n",
       "    </tr>\n",
       "  </thead>\n",
       "  <tbody>\n",
       "    <tr>\n",
       "      <th>0</th>\n",
       "      <td>2007/08</td>\n",
       "      <td>Bangalore</td>\n",
       "      <td>League</td>\n",
       "      <td>M Chinnaswamy Stadium</td>\n",
       "      <td>Royal Challengers Bangalore</td>\n",
       "      <td>Kolkata Knight Riders</td>\n",
       "      <td>Royal Challengers Bangalore</td>\n",
       "      <td>field</td>\n",
       "      <td>Kolkata Knight Riders</td>\n",
       "      <td>223.0</td>\n",
       "      <td>20.0</td>\n",
       "      <td>N</td>\n",
       "    </tr>\n",
       "    <tr>\n",
       "      <th>1</th>\n",
       "      <td>2007/08</td>\n",
       "      <td>Chandigarh</td>\n",
       "      <td>League</td>\n",
       "      <td>Punjab Cricket Association Stadium, Mohali</td>\n",
       "      <td>Kings XI Punjab</td>\n",
       "      <td>Chennai Super Kings</td>\n",
       "      <td>Chennai Super Kings</td>\n",
       "      <td>bat</td>\n",
       "      <td>Chennai Super Kings</td>\n",
       "      <td>241.0</td>\n",
       "      <td>20.0</td>\n",
       "      <td>N</td>\n",
       "    </tr>\n",
       "    <tr>\n",
       "      <th>2</th>\n",
       "      <td>2007/08</td>\n",
       "      <td>Delhi</td>\n",
       "      <td>League</td>\n",
       "      <td>Feroz Shah Kotla</td>\n",
       "      <td>Delhi Daredevils</td>\n",
       "      <td>Rajasthan Royals</td>\n",
       "      <td>Rajasthan Royals</td>\n",
       "      <td>bat</td>\n",
       "      <td>Delhi Daredevils</td>\n",
       "      <td>130.0</td>\n",
       "      <td>20.0</td>\n",
       "      <td>N</td>\n",
       "    </tr>\n",
       "    <tr>\n",
       "      <th>3</th>\n",
       "      <td>2007/08</td>\n",
       "      <td>Mumbai</td>\n",
       "      <td>League</td>\n",
       "      <td>Wankhede Stadium</td>\n",
       "      <td>Mumbai Indians</td>\n",
       "      <td>Royal Challengers Bangalore</td>\n",
       "      <td>Mumbai Indians</td>\n",
       "      <td>bat</td>\n",
       "      <td>Royal Challengers Bangalore</td>\n",
       "      <td>166.0</td>\n",
       "      <td>20.0</td>\n",
       "      <td>N</td>\n",
       "    </tr>\n",
       "    <tr>\n",
       "      <th>4</th>\n",
       "      <td>2007/08</td>\n",
       "      <td>Kolkata</td>\n",
       "      <td>League</td>\n",
       "      <td>Eden Gardens</td>\n",
       "      <td>Kolkata Knight Riders</td>\n",
       "      <td>Deccan Chargers</td>\n",
       "      <td>Deccan Chargers</td>\n",
       "      <td>bat</td>\n",
       "      <td>Kolkata Knight Riders</td>\n",
       "      <td>111.0</td>\n",
       "      <td>20.0</td>\n",
       "      <td>N</td>\n",
       "    </tr>\n",
       "  </tbody>\n",
       "</table>\n",
       "</div>"
      ],
      "text/plain": [
       "    season        city match_type                                       venue  \\\n",
       "0  2007/08   Bangalore     League                       M Chinnaswamy Stadium   \n",
       "1  2007/08  Chandigarh     League  Punjab Cricket Association Stadium, Mohali   \n",
       "2  2007/08       Delhi     League                            Feroz Shah Kotla   \n",
       "3  2007/08      Mumbai     League                            Wankhede Stadium   \n",
       "4  2007/08     Kolkata     League                                Eden Gardens   \n",
       "\n",
       "                         team1                        team2  \\\n",
       "0  Royal Challengers Bangalore        Kolkata Knight Riders   \n",
       "1              Kings XI Punjab          Chennai Super Kings   \n",
       "2             Delhi Daredevils             Rajasthan Royals   \n",
       "3               Mumbai Indians  Royal Challengers Bangalore   \n",
       "4        Kolkata Knight Riders              Deccan Chargers   \n",
       "\n",
       "                   toss_winner toss_decision                       winner  \\\n",
       "0  Royal Challengers Bangalore         field        Kolkata Knight Riders   \n",
       "1          Chennai Super Kings           bat          Chennai Super Kings   \n",
       "2             Rajasthan Royals           bat             Delhi Daredevils   \n",
       "3               Mumbai Indians           bat  Royal Challengers Bangalore   \n",
       "4              Deccan Chargers           bat        Kolkata Knight Riders   \n",
       "\n",
       "   target_runs  target_overs super_over  \n",
       "0        223.0          20.0          N  \n",
       "1        241.0          20.0          N  \n",
       "2        130.0          20.0          N  \n",
       "3        166.0          20.0          N  \n",
       "4        111.0          20.0          N  "
      ]
     },
     "execution_count": 10,
     "metadata": {},
     "output_type": "execute_result"
    }
   ],
   "source": [
    "# Step 2: Load cleaned dataset\n",
    "df = pd.read_csv(\"cleaned_ipl_dataset.csv\")\n",
    "df.head()\n"
   ]
  },
  {
   "cell_type": "code",
   "execution_count": 11,
   "id": "a450d1b1",
   "metadata": {},
   "outputs": [],
   "source": [
    "# Step 3: Encode categorical columns\n",
    "le = LabelEncoder()\n",
    "df_encoded = df.apply(le.fit_transform)\n",
    "\n",
    "# Features and label\n",
    "X = df_encoded.drop('winner', axis=1)\n",
    "y = df_encoded['winner']"
   ]
  },
  {
   "cell_type": "code",
   "execution_count": 12,
   "id": "26adfe72",
   "metadata": {},
   "outputs": [],
   "source": [
    "# Step 4: Train-test split\n",
    "X_train, X_test, y_train, y_test = train_test_split(X, y, test_size=0.2, random_state=42)\n"
   ]
  },
  {
   "cell_type": "code",
   "execution_count": 13,
   "id": "ee6e079c",
   "metadata": {},
   "outputs": [
    {
     "name": "stdout",
     "output_type": "stream",
     "text": [
      "CART Results (Gini Index):\n",
      "Accuracy: 0.4012738853503185\n",
      "Confusion Matrix:\n",
      " [[13  0  0  2  3  3  2  2  0  2]\n",
      " [ 0  0  0  0  0  0  0  0  0  0]\n",
      " [ 1  1  1  0  0  1  0  1  1  0]\n",
      " [ 1  1  1  1  1  1  1  2  0  1]\n",
      " [ 1  1  0  3  5  3  2  1  2  0]\n",
      " [ 1  1  0  0  2 12  0  1  1  2]\n",
      " [ 2  1  0  0  2  4 10  2  2  0]\n",
      " [ 0  0  2  1  1  2  2  6  4  1]\n",
      " [ 0  2  1  0  1  2  3  2  9  2]\n",
      " [ 1  0  0  0  1  1  0  1  2  6]]\n",
      "              precision    recall  f1-score   support\n",
      "\n",
      "           0       0.65      0.48      0.55        27\n",
      "           1       0.00      0.00      0.00         0\n",
      "           2       0.20      0.17      0.18         6\n",
      "           3       0.14      0.10      0.12        10\n",
      "           4       0.31      0.28      0.29        18\n",
      "           5       0.41      0.60      0.49        20\n",
      "           6       0.50      0.43      0.47        23\n",
      "           7       0.33      0.32      0.32        19\n",
      "           8       0.43      0.41      0.42        22\n",
      "           9       0.43      0.50      0.46        12\n",
      "\n",
      "    accuracy                           0.40       157\n",
      "   macro avg       0.34      0.33      0.33       157\n",
      "weighted avg       0.42      0.40      0.41       157\n",
      "\n"
     ]
    },
    {
     "name": "stderr",
     "output_type": "stream",
     "text": [
      "C:\\Users\\SANIYA SULTHANA\\AppData\\Local\\Packages\\PythonSoftwareFoundation.Python.3.12_qbz5n2kfra8p0\\LocalCache\\local-packages\\Python312\\site-packages\\sklearn\\metrics\\_classification.py:1565: UndefinedMetricWarning: Recall is ill-defined and being set to 0.0 in labels with no true samples. Use `zero_division` parameter to control this behavior.\n",
      "  _warn_prf(average, modifier, f\"{metric.capitalize()} is\", len(result))\n",
      "C:\\Users\\SANIYA SULTHANA\\AppData\\Local\\Packages\\PythonSoftwareFoundation.Python.3.12_qbz5n2kfra8p0\\LocalCache\\local-packages\\Python312\\site-packages\\sklearn\\metrics\\_classification.py:1565: UndefinedMetricWarning: Recall is ill-defined and being set to 0.0 in labels with no true samples. Use `zero_division` parameter to control this behavior.\n",
      "  _warn_prf(average, modifier, f\"{metric.capitalize()} is\", len(result))\n",
      "C:\\Users\\SANIYA SULTHANA\\AppData\\Local\\Packages\\PythonSoftwareFoundation.Python.3.12_qbz5n2kfra8p0\\LocalCache\\local-packages\\Python312\\site-packages\\sklearn\\metrics\\_classification.py:1565: UndefinedMetricWarning: Recall is ill-defined and being set to 0.0 in labels with no true samples. Use `zero_division` parameter to control this behavior.\n",
      "  _warn_prf(average, modifier, f\"{metric.capitalize()} is\", len(result))\n"
     ]
    }
   ],
   "source": [
    "from sklearn.tree import DecisionTreeClassifier\n",
    "\n",
    "cart_model = DecisionTreeClassifier(criterion=\"gini\", random_state=42)\n",
    "cart_model.fit(X_train, y_train)\n",
    "y_pred_cart = cart_model.predict(X_test)\n",
    "\n",
    "print(\"CART Results (Gini Index):\")\n",
    "print(\"Accuracy:\", accuracy_score(y_test, y_pred_cart))\n",
    "print(\"Confusion Matrix:\\n\", confusion_matrix(y_test, y_pred_cart))\n",
    "print(classification_report(y_test, y_pred_cart))\n"
   ]
  },
  {
   "cell_type": "code",
   "execution_count": 14,
   "id": "bbb29f0b",
   "metadata": {},
   "outputs": [
    {
     "name": "stdout",
     "output_type": "stream",
     "text": [
      "ID3 Results (Information Gain):\n",
      "Accuracy: 0.4140127388535032\n",
      "Confusion Matrix:\n",
      " [[18  0  0  3  2  2  0  0  1  1]\n",
      " [ 0  0  0  0  0  0  0  0  0  0]\n",
      " [ 1  0  2  0  0  0  0  2  1  0]\n",
      " [ 1  1  0  3  2  1  1  1  0  0]\n",
      " [ 1  1  0  2  3  6  1  2  2  0]\n",
      " [ 1  2  0  1  2 11  1  0  0  2]\n",
      " [ 2  0  1  0  1  2 11  2  2  2]\n",
      " [ 0  0  2  1  0  2  4  6  3  1]\n",
      " [ 1  1  1  3  3  2  3  1  5  2]\n",
      " [ 1  0  1  0  2  0  0  0  2  6]]\n",
      "              precision    recall  f1-score   support\n",
      "\n",
      "           0       0.69      0.67      0.68        27\n",
      "           1       0.00      0.00      0.00         0\n",
      "           2       0.29      0.33      0.31         6\n",
      "           3       0.23      0.30      0.26        10\n",
      "           4       0.20      0.17      0.18        18\n",
      "           5       0.42      0.55      0.48        20\n",
      "           6       0.52      0.48      0.50        23\n",
      "           7       0.43      0.32      0.36        19\n",
      "           8       0.31      0.23      0.26        22\n",
      "           9       0.43      0.50      0.46        12\n",
      "\n",
      "    accuracy                           0.41       157\n",
      "   macro avg       0.35      0.35      0.35       157\n",
      "weighted avg       0.43      0.41      0.42       157\n",
      "\n"
     ]
    },
    {
     "name": "stderr",
     "output_type": "stream",
     "text": [
      "C:\\Users\\SANIYA SULTHANA\\AppData\\Local\\Packages\\PythonSoftwareFoundation.Python.3.12_qbz5n2kfra8p0\\LocalCache\\local-packages\\Python312\\site-packages\\sklearn\\metrics\\_classification.py:1565: UndefinedMetricWarning: Recall is ill-defined and being set to 0.0 in labels with no true samples. Use `zero_division` parameter to control this behavior.\n",
      "  _warn_prf(average, modifier, f\"{metric.capitalize()} is\", len(result))\n",
      "C:\\Users\\SANIYA SULTHANA\\AppData\\Local\\Packages\\PythonSoftwareFoundation.Python.3.12_qbz5n2kfra8p0\\LocalCache\\local-packages\\Python312\\site-packages\\sklearn\\metrics\\_classification.py:1565: UndefinedMetricWarning: Recall is ill-defined and being set to 0.0 in labels with no true samples. Use `zero_division` parameter to control this behavior.\n",
      "  _warn_prf(average, modifier, f\"{metric.capitalize()} is\", len(result))\n",
      "C:\\Users\\SANIYA SULTHANA\\AppData\\Local\\Packages\\PythonSoftwareFoundation.Python.3.12_qbz5n2kfra8p0\\LocalCache\\local-packages\\Python312\\site-packages\\sklearn\\metrics\\_classification.py:1565: UndefinedMetricWarning: Recall is ill-defined and being set to 0.0 in labels with no true samples. Use `zero_division` parameter to control this behavior.\n",
      "  _warn_prf(average, modifier, f\"{metric.capitalize()} is\", len(result))\n"
     ]
    }
   ],
   "source": [
    "id3_model = DecisionTreeClassifier(criterion=\"entropy\", random_state=42)\n",
    "id3_model.fit(X_train, y_train)\n",
    "y_pred_id3 = id3_model.predict(X_test)\n",
    "\n",
    "print(\"ID3 Results (Information Gain):\")\n",
    "print(\"Accuracy:\", accuracy_score(y_test, y_pred_id3))\n",
    "print(\"Confusion Matrix:\\n\", confusion_matrix(y_test, y_pred_id3))\n",
    "print(classification_report(y_test, y_pred_id3))\n"
   ]
  },
  {
   "cell_type": "code",
   "execution_count": 15,
   "id": "69c3b6ed",
   "metadata": {},
   "outputs": [
    {
     "name": "stdout",
     "output_type": "stream",
     "text": [
      "C4.5 Results (Gain Ratio Approx.):\n",
      "Accuracy: 0.43312101910828027\n",
      "Confusion Matrix:\n",
      " [[17  0  0  2  3  0  1  2  1  1]\n",
      " [ 0  0  0  0  0  0  0  0  0  0]\n",
      " [ 0  0  3  0  0  0  0  2  1  0]\n",
      " [ 0  1  0  0  4  0  2  2  0  1]\n",
      " [ 2  0  0  0  5  2  3  2  4  0]\n",
      " [ 0  1  0  0  5  6  0  3  2  3]\n",
      " [ 2  1  0  1  0  4  9  1  4  1]\n",
      " [ 0  0  2  1  0  1  2  9  3  1]\n",
      " [ 1  1  2  1  0  1  0  0 14  2]\n",
      " [ 1  0  1  0  0  0  2  1  2  5]]\n",
      "              precision    recall  f1-score   support\n",
      "\n",
      "           0       0.74      0.63      0.68        27\n",
      "           1       0.00      0.00      0.00         0\n",
      "           2       0.38      0.50      0.43         6\n",
      "           3       0.00      0.00      0.00        10\n",
      "           4       0.29      0.28      0.29        18\n",
      "           5       0.43      0.30      0.35        20\n",
      "           6       0.47      0.39      0.43        23\n",
      "           7       0.41      0.47      0.44        19\n",
      "           8       0.45      0.64      0.53        22\n",
      "           9       0.36      0.42      0.38        12\n",
      "\n",
      "    accuracy                           0.43       157\n",
      "   macro avg       0.35      0.36      0.35       157\n",
      "weighted avg       0.44      0.43      0.43       157\n",
      "\n"
     ]
    },
    {
     "name": "stderr",
     "output_type": "stream",
     "text": [
      "C:\\Users\\SANIYA SULTHANA\\AppData\\Local\\Packages\\PythonSoftwareFoundation.Python.3.12_qbz5n2kfra8p0\\LocalCache\\local-packages\\Python312\\site-packages\\sklearn\\metrics\\_classification.py:1565: UndefinedMetricWarning: Recall is ill-defined and being set to 0.0 in labels with no true samples. Use `zero_division` parameter to control this behavior.\n",
      "  _warn_prf(average, modifier, f\"{metric.capitalize()} is\", len(result))\n",
      "C:\\Users\\SANIYA SULTHANA\\AppData\\Local\\Packages\\PythonSoftwareFoundation.Python.3.12_qbz5n2kfra8p0\\LocalCache\\local-packages\\Python312\\site-packages\\sklearn\\metrics\\_classification.py:1565: UndefinedMetricWarning: Recall is ill-defined and being set to 0.0 in labels with no true samples. Use `zero_division` parameter to control this behavior.\n",
      "  _warn_prf(average, modifier, f\"{metric.capitalize()} is\", len(result))\n",
      "C:\\Users\\SANIYA SULTHANA\\AppData\\Local\\Packages\\PythonSoftwareFoundation.Python.3.12_qbz5n2kfra8p0\\LocalCache\\local-packages\\Python312\\site-packages\\sklearn\\metrics\\_classification.py:1565: UndefinedMetricWarning: Recall is ill-defined and being set to 0.0 in labels with no true samples. Use `zero_division` parameter to control this behavior.\n",
      "  _warn_prf(average, modifier, f\"{metric.capitalize()} is\", len(result))\n"
     ]
    }
   ],
   "source": [
    "c45_model = DecisionTreeClassifier(criterion=\"entropy\", max_depth=5, min_samples_split=10, random_state=42)\n",
    "c45_model.fit(X_train, y_train)\n",
    "y_pred_c45 = c45_model.predict(X_test)\n",
    "\n",
    "print(\"C4.5 Results (Gain Ratio Approx.):\")\n",
    "print(\"Accuracy:\", accuracy_score(y_test, y_pred_c45))\n",
    "print(\"Confusion Matrix:\\n\", confusion_matrix(y_test, y_pred_c45))\n",
    "print(classification_report(y_test, y_pred_c45))\n"
   ]
  },
  {
   "cell_type": "code",
   "execution_count": 8,
   "id": "e7643cd4",
   "metadata": {},
   "outputs": [
    {
     "name": "stderr",
     "output_type": "stream",
     "text": [
      "C:\\Users\\SANIYA SULTHANA\\AppData\\Local\\Packages\\PythonSoftwareFoundation.Python.3.12_qbz5n2kfra8p0\\LocalCache\\local-packages\\Python312\\site-packages\\sklearn\\metrics\\_classification.py:1565: UndefinedMetricWarning: Recall is ill-defined and being set to 0.0 in labels with no true samples. Use `zero_division` parameter to control this behavior.\n",
      "  _warn_prf(average, modifier, f\"{metric.capitalize()} is\", len(result))\n",
      "C:\\Users\\SANIYA SULTHANA\\AppData\\Local\\Packages\\PythonSoftwareFoundation.Python.3.12_qbz5n2kfra8p0\\LocalCache\\local-packages\\Python312\\site-packages\\sklearn\\metrics\\_classification.py:1565: UndefinedMetricWarning: Recall is ill-defined and being set to 0.0 in labels with no true samples. Use `zero_division` parameter to control this behavior.\n",
      "  _warn_prf(average, modifier, f\"{metric.capitalize()} is\", len(result))\n",
      "C:\\Users\\SANIYA SULTHANA\\AppData\\Local\\Packages\\PythonSoftwareFoundation.Python.3.12_qbz5n2kfra8p0\\LocalCache\\local-packages\\Python312\\site-packages\\sklearn\\metrics\\_classification.py:1565: UndefinedMetricWarning: Precision is ill-defined and being set to 0.0 in labels with no predicted samples. Use `zero_division` parameter to control this behavior.\n",
      "  _warn_prf(average, modifier, f\"{metric.capitalize()} is\", len(result))\n",
      "C:\\Users\\SANIYA SULTHANA\\AppData\\Local\\Packages\\PythonSoftwareFoundation.Python.3.12_qbz5n2kfra8p0\\LocalCache\\local-packages\\Python312\\site-packages\\sklearn\\metrics\\_classification.py:1565: UndefinedMetricWarning: Recall is ill-defined and being set to 0.0 in labels with no true samples. Use `zero_division` parameter to control this behavior.\n",
      "  _warn_prf(average, modifier, f\"{metric.capitalize()} is\", len(result))\n"
     ]
    },
    {
     "name": "stdout",
     "output_type": "stream",
     "text": [
      "\n",
      "Model: CART (gini)\n",
      "Accuracy: 0.40\n",
      "Precision: 0.41\n",
      "Recall: 0.40\n",
      "F1 Score: 0.39\n",
      "\n",
      "Model: ID3 (entropy)\n",
      "Accuracy: 0.48\n",
      "Precision: 0.50\n",
      "Recall: 0.48\n",
      "F1 Score: 0.48\n",
      "\n",
      "Model: C4.5 Approx (entropy + min_samples_split=10)\n",
      "Accuracy: 0.49\n",
      "Precision: 0.51\n",
      "Recall: 0.49\n",
      "F1 Score: 0.48\n",
      "\n",
      "Model: Random Forest\n",
      "Accuracy: 0.49\n",
      "Precision: 0.50\n",
      "Recall: 0.49\n",
      "F1 Score: 0.48\n"
     ]
    },
    {
     "name": "stderr",
     "output_type": "stream",
     "text": [
      "C:\\Users\\SANIYA SULTHANA\\AppData\\Local\\Packages\\PythonSoftwareFoundation.Python.3.12_qbz5n2kfra8p0\\LocalCache\\local-packages\\Python312\\site-packages\\sklearn\\metrics\\_classification.py:1565: UndefinedMetricWarning: Recall is ill-defined and being set to 0.0 in labels with no true samples. Use `zero_division` parameter to control this behavior.\n",
      "  _warn_prf(average, modifier, f\"{metric.capitalize()} is\", len(result))\n"
     ]
    }
   ],
   "source": [
    "for name, model in models.items():\n",
    "    model.fit(X_train, y_train)\n",
    "    y_pred = model.predict(X_test)\n",
    "\n",
    "    acc = accuracy_score(y_test, y_pred)\n",
    "    prec = precision_score(y_test, y_pred, average='weighted')\n",
    "    rec = recall_score(y_test, y_pred, average='weighted')\n",
    "    f1 = f1_score(y_test, y_pred, average='weighted')\n",
    "    cm = confusion_matrix(y_test, y_pred)\n",
    "\n",
    "    results.append({\"Model\": name, \"Accuracy\": acc, \"Precision\": prec, \"Recall\": rec, \"F1 Score\": f1})\n",
    "\n",
    "    print(f\"\\nModel: {name}\")\n",
    "    print(f\"Accuracy: {acc:.2f}\")\n",
    "    print(f\"Precision: {prec:.2f}\")\n",
    "    print(f\"Recall: {rec:.2f}\")\n",
    "    print(f\"F1 Score: {f1:.2f}\")"
   ]
  },
  {
   "cell_type": "code",
   "execution_count": 16,
   "id": "10bc583e",
   "metadata": {},
   "outputs": [
    {
     "name": "stdout",
     "output_type": "stream",
     "text": [
      "CHAID implementation requires external libraries like 'CHAID' or manual Chi-square split logic.\n"
     ]
    }
   ],
   "source": [
    "print(\"CHAID implementation requires external libraries like 'CHAID' or manual Chi-square split logic.\")\n"
   ]
  },
  {
   "cell_type": "code",
   "execution_count": 17,
   "id": "c52e9c0b",
   "metadata": {},
   "outputs": [
    {
     "name": "stdout",
     "output_type": "stream",
     "text": [
      "Accuracy Scores:\n",
      "CART : 0.4012738853503185\n",
      "ID3  : 0.4140127388535032\n",
      "C4.5 : 0.43312101910828027\n"
     ]
    }
   ],
   "source": [
    "print(\"Accuracy Scores:\")\n",
    "print(\"CART :\", accuracy_score(y_test, y_pred_cart))\n",
    "print(\"ID3  :\", accuracy_score(y_test, y_pred_id3))\n",
    "print(\"C4.5 :\", accuracy_score(y_test, y_pred_c45))\n"
   ]
  },
  {
   "cell_type": "code",
   "execution_count": null,
   "id": "faf54725",
   "metadata": {},
   "outputs": [],
   "source": []
  },
  {
   "cell_type": "code",
   "execution_count": null,
   "id": "7c1c7419",
   "metadata": {},
   "outputs": [],
   "source": []
  }
 ],
 "metadata": {
  "kernelspec": {
   "display_name": "Python 3",
   "language": "python",
   "name": "python3"
  },
  "language_info": {
   "codemirror_mode": {
    "name": "ipython",
    "version": 3
   },
   "file_extension": ".py",
   "mimetype": "text/x-python",
   "name": "python",
   "nbconvert_exporter": "python",
   "pygments_lexer": "ipython3",
   "version": "3.12.10"
  }
 },
 "nbformat": 4,
 "nbformat_minor": 5
}
